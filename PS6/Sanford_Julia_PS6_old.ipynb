{
 "cells": [
  {
   "cell_type": "markdown",
   "metadata": {},
   "source": [
    "# CSCI 3352 Biological Networks, Spring 2020, Prof. Clauset\n",
    "Submit here: https://moodle.cs.colorado.edu/course/view.php?id=1273"
   ]
  },
  {
   "cell_type": "markdown",
   "metadata": {},
   "source": [
    "# Problem Set 6 : Coarse-graining a network\n",
    "\n",
    "***\n",
    "\n",
    "**Name**: Julia Sanford\n",
    "\n",
    "**Worked With**: Denver Chernin\n",
    "\n",
    "***\n",
    "\n",
    "This assignment is due on Moodle by **11:55pm on Friday, March 6th**. Your solutions to non-programming questions should be done in Markdown directly below the associated question. Your solutions to computational questions should include any specified Python code and results as well as written commentary on your conclusions.  Remember that you are encouraged to discuss the problems with your classmates, but **you must write all code and solutions on your own** (see syllabus for detailed guidance). There are 90 points total, and 35 pts extra credit.\n",
    "\n",
    "**NOTES**: \n",
    "\n",
    "- Unless a url is given for a data set, you will find the required data on the course Moodle.\n",
    "- If you're not familiar with typesetting math directly in Markdown, you may do your work on paper first and then typeset it later. This [reference guide](https://math.meta.stackexchange.com/questions/5020/mathjax-basic-tutorial-and-quick-reference) provides helpful guidance for writing math in Markdown. \n",
    "- It is **unhelpful** to make your reader interpret numerical output from your code.  If a question asks you to compute some value from the data you should show your code output **AND** write a summary of the results in Markdown directly below your code.\n",
    "\n",
    "***\n",
    "* [Documentation for networkx](https://networkx.github.io/documentation/stable/)\n",
    "\n",
    "[//]: <> (Documentation for igraph Python https://igraph.org/python/ )"
   ]
  },
  {
   "cell_type": "code",
   "execution_count": 1,
   "metadata": {},
   "outputs": [],
   "source": [
    "import networkx as nx\n",
    "import numpy as np\n",
    "import matplotlib\n",
    "import matplotlib.pylab as plt\n",
    "\n",
    "%matplotlib inline"
   ]
  },
  {
   "cell_type": "code",
   "execution_count": 2,
   "metadata": {},
   "outputs": [],
   "source": [
    "def drawGz(G,z):\n",
    "    # DO NOT MODIFY THIS FUNCTION\n",
    "    # This function draws G with node labels from partition z\n",
    "    #\n",
    "    # input  : G is a networkx graph\n",
    "    #        : z is a dictionary of group labels for G's nodes\n",
    "    # output : none\n",
    "    # \n",
    "    # WARNING: function is optimistic: assumes inputs are properly formatted\n",
    "\n",
    "    colors = ['#d61111','#11c6d6','#d67711','#11d646','#1b11d6','#d611cc'] # map node labels to colors (for the visualization)\n",
    "\n",
    "    node_colors = []\n",
    "    for i in G.nodes():\n",
    "        node_colors.append(colors[int(z[i])])\n",
    "    nsize  = 600\n",
    "    flabel = True\n",
    "\n",
    "    if G.order() > 50:\n",
    "        nsize  = 100\n",
    "        flabel = False\n",
    "        \n",
    "    nx.draw_networkx(G,with_labels=flabel,node_size=nsize,width=2,node_color=node_colors) # draw it pretty\n",
    "    limits=plt.axis('off')                                      # turn off axes\n",
    "    plt.show() \n",
    "\n",
    "    return"
   ]
  },
  {
   "cell_type": "markdown",
   "metadata": {},
   "source": [
    "***\n",
    "## Problem 1 : Warm ups (20 pts total)\n",
    "\n",
    "Three warm up exercises, with the degree-corrected stochastic block model (DC-SBM) described in Lecture 6."
   ]
  },
  {
   "cell_type": "markdown",
   "metadata": {},
   "source": [
    "### Problem 1-A (5 pts) : Warm up, by hand\n",
    "\n",
    "For the network $G$ and partition $z$ given below, calculate by hand the $e_{rs}$ and $\\kappa_r$ auxilary data structures for the DC-SBM model:\n",
    "\n",
    "$e_{rs} = \\sum_{i=1}^n\\sum_{j=1}^n A_{ij}\\delta_{r,z_i}\\delta_{s,z_j}$ i.e., the number of \"stubs\" of edges whose endpoints are in group $r$ and group $s$\n",
    "\n",
    "$\\kappa_r = \\sum_{s=1}^c e_{rs}$ i.e., the \"total degree\" of all nodes in group $r$\n",
    "\n",
    "Show your work and report the result in the markdown box below.\n",
    "\n",
    "Hint: Refer to Section 2.2 in Lecture 6, and the example in Section 2.2.1."
   ]
  },
  {
   "cell_type": "code",
   "execution_count": 3,
   "metadata": {},
   "outputs": [
    {
     "data": {
      "image/png": "[encoded data removed]",
      "text/plain": [
       "<matplotlib.figure.Figure at 0x10a8de438>"
      ]
     },
     "metadata": {},
     "output_type": "display_data"
    }
   ],
   "source": [
    "G = nx.Graph([(0,1),(0,2),(0,5),(0,6),(0,7),(0,8),(2,3),(2,5),(4,5),(3,5)]) # a simple graph G\n",
    "\n",
    "# partition G into 2 groups (z as a dictionary)\n",
    "z = {0: 0, 1: 0, 2: 1, 3: 1, 4: 1, 5: 1, 6: 0, 7: 0, 8: 0}\n",
    "\n",
    "drawGz(G,z)"
   ]
  },
  {
   "cell_type": "markdown",
   "metadata": {},
   "source": [
    "| $\\pmb{e_{rs}}$  | Red (5)       | Blue (4) |\n",
    "| --------------- | ------------- | -------- |\n",
    "| **Red (5)**     | 4             | 2        |\n",
    "| **Blue (4)**    | ---           | 4        | \n",
    "\n",
    "<br>\n",
    "\n",
    "| $\\pmb{\\omega_{rs}}$   | Red (5)       | Blue (4) | $\\pmb{\\kappa_{r}}$ |\n",
    "| --------------- | ------------- | -------- | ------------ |\n",
    "| **Red (5)**     | 8             | 2        | 10           |\n",
    "| **Blue (4)**    | 2             | 8        | 10           |"
   ]
  },
  {
   "cell_type": "markdown",
   "metadata": {},
   "source": [
    "### Problem 1-B (10 pts) : Warm up, by code\n",
    "\n",
    "* Now write a function `tabulate_ek()` that takes as input a simple graph $G$ and partition $z$, and returns the auxiliary data structures $e_{rs}$ and $\\kappa_r$ for the DC-SBM.\n",
    "* Apply your function to the same network $G$ and partition $z$ in `Problem 1-A` to verify your answer there.\n",
    "\n",
    "Hint: An easy way to do this is a loop `for e in list(G.edges())` in which you increment the appropriate element of $e_{rs}$, depending on the values $z_{e[0]}$ and $z_{e[1]}$. The values of $\\kappa_r$ can then be derived from $e_{rs}$. Note however, that when $G$ is a simple graph, `list(G.edges())` returns a set of *undirected* edges $\\{(u,v)\\}$ such that $u<v$. This means that correctly calculating $e_{rs}$ requires that you account for both $(u,v)$ and $(v,u)$ for each edge $(u,v)$ in that list."
   ]
  },
  {
   "cell_type": "code",
   "execution_count": 22,
   "metadata": {},
   "outputs": [],
   "source": [
    "def tabulate_ek(G,z,c):\n",
    "    # This function tabulates the e_rs and kappa_r auxiliary data structures for the DC-SBM\n",
    "    #\n",
    "    # input  : G is simple graph with n nodes\n",
    "    #        : z is a dictionary of group labels for G's nodes, into c groups\n",
    "    #        : c is scalar, number of possible groups\n",
    "    # output : ers, kpr\n",
    "    # \n",
    "    # WARNING: function is optimistic: assumes inputs are properly formatted\n",
    "    \n",
    "    ers = np.zeros([c,c]) # count of stubs from group r to group s\n",
    "    kpr = np.zeros([c,1]) # total degree of group r\n",
    "\n",
    "    ##### do not modify above here #####\n",
    "    \n",
    "    ### YOUR CODE\n",
    "    for i,j in G.edges():\n",
    "        if (z[i] == z[j]):\n",
    "            ers[z[i]][z[j]] += 1\n",
    "            kpr[z[i]] += 2\n",
    "        else:\n",
    "            ers[z[i]][z[j]] += 1\n",
    "            ers[z[j]][z[i]] += 1\n",
    "            kpr[z[i]] += 1\n",
    "            kpr[z[j]] += 1\n",
    "        \n",
    "    ##### do not modify below here #####\n",
    "\n",
    "    return ers,kpr"
   ]
  },
  {
   "cell_type": "code",
   "execution_count": 26,
   "metadata": {},
   "outputs": [
    {
     "name": "stdout",
     "output_type": "stream",
     "text": [
      "[[4. 2.]\n",
      " [2. 4.]] \n",
      "\n",
      " [[10.]\n",
      " [10.]]\n"
     ]
    }
   ],
   "source": [
    "# Your code here\n",
    "e_rs,k_pr = tabulate_ek(G,z,2)\n",
    "print(e_rs,'\\n\\n',k_pr)"
   ]
  },
  {
   "cell_type": "markdown",
   "metadata": {},
   "source": [
    "### Problem 1-C (5 pts) : A random partition\n",
    "\n",
    "Now write the following a function to initialize the search:\n",
    "* `random_z(n,c)`: given the number of nodes `n` and groups `c`, return a dict `z` for a random partition, i.e., where `z[i] = Uniform(0,c-1)`\n",
    "\n",
    "* Then, run the code in the second code-box below to generate a random partition on the little graph from `Problem 1-A`, calculate the mixing matrix using your `tabulate_ek()` function, and then draw the corresponding graph using `drawGz()`."
   ]
  },
  {
   "cell_type": "code",
   "execution_count": 47,
   "metadata": {},
   "outputs": [],
   "source": [
    "def random_z(n,c):\n",
    "    # input  : number of nodes n, and number of groups c\n",
    "    # output : returns a random partition in a dictionary z, where z_i = Uniform(0,c-1)\n",
    "\n",
    "    import random as rnd\n",
    "    rnd.seed()\n",
    "    \n",
    "    z = dict()\n",
    "\n",
    "    ##### do not modify above here #####\n",
    "\n",
    "    ### YOUR CODE\n",
    "    for i in range(n):\n",
    "        z[i] = int(np.round(rnd.uniform(0,c-1)))\n",
    "\n",
    "    ##### do not modify below here #####\n",
    "\n",
    "    return z"
   ]
  },
  {
   "cell_type": "code",
   "execution_count": 54,
   "metadata": {},
   "outputs": [
    {
     "name": "stdout",
     "output_type": "stream",
     "text": [
      "{0: 0, 1: 0, 2: 0, 3: 1, 4: 1, 5: 1, 6: 0, 7: 1, 8: 1}\n",
      "kappa_r = \n",
      "[[11.]\n",
      " [ 9.]]\n",
      "e_rs = \n",
      "[[3. 5.]\n",
      " [5. 2.]]\n"
     ]
    },
    {
     "data": {
      "image/png": "[encoded data removed]",
      "text/plain": [
       "<matplotlib.figure.Figure at 0x1513c824e0>"
      ]
     },
     "metadata": {},
     "output_type": "display_data"
    }
   ],
   "source": [
    "##### do not modify below here #####\n",
    "##    run this code once you've written the random_z() function\n",
    "\n",
    "n = G.order()\n",
    "c = 2\n",
    "z = random_z(n,c)\n",
    "print(z)\n",
    "ers,kpr = tabulate_ek(G,z,c)\n",
    "print(f'kappa_r = ')\n",
    "print(kpr)\n",
    "print(f'e_rs = ')\n",
    "print(ers)\n",
    "\n",
    "drawGz(G,z)\n",
    "\n",
    "##### do not modify above here #####"
   ]
  },
  {
   "cell_type": "markdown",
   "metadata": {},
   "source": [
    "***\n",
    "## Problem 2 : Community detection by locally greedy heuristic (75 pts total)\n",
    "\n",
    "In this problem, you will implement and apply the `locally greedy heuristic` described in Lecture 6. To make it a little easier, the functions `dcsbm_LogL()` and `plotLL()` are provided. These (1) calculate the DC-SBM log-likelihood (when given the auxiliary data structures $e_{rs}$ and $\\kappa_r$), and (2) plot the final log-likelihood trajectory of your algorithm.\n",
    "\n",
    "- In `Problem 2-A` you'll write the core logic of the algorithm\n",
    "- In `Problem 2-B` you'll wrap the core logic in a loop to complete a single phase\n",
    "- In `Problem 2-C` you'll wrap your single-phase code in a loop to run the full search\n",
    "- In `Problems 2-D,E` you'll apply it to some real-world networks"
   ]
  },
  {
   "cell_type": "code",
   "execution_count": 55,
   "metadata": {},
   "outputs": [],
   "source": [
    "def dcsbm_LogL(ers,kpr):\n",
    "    # DO NOT MODIFY THIS FUNCTION\n",
    "    # This function calculates the log-likelihood of the degree-corrected stochastic block model (DC-SBM)\n",
    "    # See Eq. (9) in Lecture 6.\n",
    "    #\n",
    "    # input  : ers is a c x c np.array of stub counts\n",
    "    #        : kpr is a c x 1 np.array of stub counts \n",
    "    # output : the dcsbm log-likelihood\n",
    "    # \n",
    "    # WARNING: function is optimistic: assumes inputs are properly formatted\n",
    "\n",
    "    c = ers.shape[1]  # number of groups\n",
    "    \n",
    "    logL = 0\n",
    "    for r in range(c):\n",
    "        for s in range(c):\n",
    "            if ers[r,s] < 1 or kpr[r] < 1 or kpr[s] < 1:\n",
    "                temp = 0 # define 0^0 = 1\n",
    "            else:\n",
    "                temp = ers[r,s]*np.log( ers[r,s] / (kpr[r]*kpr[s]) )\n",
    "            logL = logL + temp\n",
    "    \n",
    "    return logL\n",
    "    # DO NOT MODIFY THIS FUNCTION\n"
   ]
  },
  {
   "cell_type": "code",
   "execution_count": 56,
   "metadata": {},
   "outputs": [],
   "source": [
    "def plotLL(LL,pc,n):\n",
    "    # DO NOT MODIFY THIS FUNCTION\n",
    "    # This function makes a nice plot of the log-likelihood trajectory\n",
    "    #\n",
    "    # input  : LL is list of log-likelihood values of length (n+1)*(pc+1)\n",
    "    #        : n, number of nodes\n",
    "    #        : pc, number of phases in LL\n",
    "    # output : none\n",
    "    # \n",
    "    # WARNING: function is optimistic: assumes inputs are properly formatted\n",
    "\n",
    "    tc  = len(LL)               # number of partitions considered in the LL trajectory\n",
    "\n",
    "    fig = plt.figure()\n",
    "    ax1 = fig.add_subplot(111) # put multiple \n",
    "    \n",
    "    plt.plot(range(tc), LL, 'b.-', alpha=0.5)  # plot the log-likelihood trajectory\n",
    "    for i in range(pc):                        # add vertical bars to demarcate phases, add black squares for phase-maxima\n",
    "        plt.plot([(i)*(n+1),(i)*(n+1)],[min(LL),max(LL)], 'k--', alpha=0.5) # vertical bar\n",
    "        LLp = LL[(i)*(n+1):(i+1)*(n+1)]\n",
    "        b = LLp.index(max(LLp))\n",
    "        plt.plot([(i)*(n+1)+b],[max(LLp)], 'ks', alpha=0.5)\n",
    "\n",
    "    plt.ylabel('log-likelihood, DC-SBM')\n",
    "    plt.xlabel('number of partitions considered')\n",
    "    plt.show()"
   ]
  },
  {
   "cell_type": "markdown",
   "metadata": {},
   "source": [
    "### Problem 2-A (15 pts) : Making a move\n",
    "\n",
    "In this problem, you'll write the core logic of the locally greedy heuristic.\n",
    "\n",
    "Recall that at each step in a _phase_ the algorithm considers *all possible* group-changes across all unfrozen nodes, of which there are $(n-t)(c-1)$ such single-node moves. Of these possible moves, it selects the one that is the greedy choice, \"freezes\" the node it moved, and repeats until all nodes have been frozen. When $n=t$, all nodes are frozen, and the phase is over. At this point, we look back over all $n+1$ partitions considered during this phase, and if the initial partition $z_0$ was the best, we halt and return $z_0$. Otherwise, we initialize a new phase with the best partition in the phase $z_*$ and unfreeze all the nodes.\n",
    "\n",
    "* Write the `makeAMove()` function below, which implements the core logic of the algorithm:\n",
    "  * given a graph $G$, a current partition $z_t$, a number of groups $c$, and a \"mask\" vector $f$ (if $f_i=1$, then $i$ is \"frozen\")\n",
    "  * loop over the unfrozen nodes to compute the log-likelihood of each of the $c-1$ possible single-node moves for each of those nodes\n",
    "  * in the process, keep track of the best log-likelihood its seen and the corresponding \"best move\", i.e., the node $i$ and new group $r$, that when applied to $z$ would generate that best log-likelihood.\n",
    "* Include in your code the line `print(f'v[{i}] g[{int(s)}] --> g[{r}] : {thisL}')` so that for each node move considered, the function reports the node, its current group, its new group, and corresponding log-likelihood.\n",
    "* Then apply `makeAMove()` to the simple graph $G$ in `Problem 1-A`, with $c=3$, a partition from `random_z()`, and $f_i=0$ for all $i$ except $f_2=1$, by running the code in the second code box below.\n",
    "\n",
    "Hint: don't forget to put $i$ back in group $s$ after you've evaluated each of the $c-1$ alternatives."
   ]
  },
  {
   "cell_type": "code",
   "execution_count": 58,
   "metadata": {},
   "outputs": [],
   "source": [
    "def makeAMove(G,z,c,f):\n",
    "    # For each non 'frozen' node in the current partition, this function tries all (c-1) possible group moves for it\n",
    "    # It returns the combination of [node i and new group r] that produces the best log-likelihood over the non-frozen set\n",
    "    # input  : G, a graph\n",
    "    #        : z, a partition of G's nodes\n",
    "    #        : c, the number of groups\n",
    "    #        : f, a binary labeling of frozen nodes\n",
    "    # output : bestL, the best log-likelihood found\n",
    "    #        : bestMove, [i,r] the node i and new group r to achieve bestL\n",
    "    \n",
    "    bestL = -np.inf            # the best log-likelihood over all considered moves\n",
    "    for i in G.nodes():        # loop over all nodes i\n",
    "        if f[i] == 0:          # if i is not frozen\n",
    "            s = int(z[i])      #  get current label of i\n",
    "            for r in range(c): #  then loop over all groups r\n",
    "                #print(f'v[{i}] s = {s}, r={r}, {r!=s}') # for debugging\n",
    "                \n",
    "                ##### do not modify above here #####\n",
    "\n",
    "                ## YOUR CODE\n",
    "                z[i] = r\n",
    "                ers,kpr = tabulate_ek(G,z,c)\n",
    "                cur_logL = dcsbm_LogL(ers,kpr)\n",
    "                if (cur_logL > bestL):\n",
    "                    bestL = cur_logL\n",
    "                    bestMove = [i,r]\n",
    "                \n",
    "            z[i] = s\n",
    "                    \n",
    "                ##### do not modify below here #####    \n",
    "                \n",
    "    return bestL,bestMove"
   ]
  },
  {
   "cell_type": "code",
   "execution_count": 59,
   "metadata": {},
   "outputs": [
    {
     "name": "stdout",
     "output_type": "stream",
     "text": [
      "choiceL    = [-44.70121763]\n",
      "choiceMove = node 0 --> group 1\n"
     ]
    },
    {
     "data": {
      "image/png": "[encoded data removed]",
      "text/plain": [
       "<matplotlib.figure.Figure at 0x10e0e6550>"
      ]
     },
     "metadata": {},
     "output_type": "display_data"
    }
   ],
   "source": [
    "##### do not modify below here #####\n",
    "##    run this code once you've written the makeAMove() function\n",
    "\n",
    "n = G.order()\n",
    "c = 3\n",
    "z = random_z(n,c)              # initial random partition\n",
    "f = dict.fromkeys(range(n), 0) # initially, all nodes unfrozen\n",
    "f[2] = 1                       # but freeze node 2\n",
    "choiceL,choiceMove = makeAMove(G,z,c,f)\n",
    "\n",
    "print(f'choiceL    = {choiceL}\\nchoiceMove = node {choiceMove[0]} --> group {choiceMove[1]}')\n",
    "drawGz(G,z)\n",
    "\n",
    "##### do not modify above here #####"
   ]
  },
  {
   "cell_type": "markdown",
   "metadata": {},
   "source": [
    "### Problem 2-B (15 pts) : Make all the moves\n",
    "\n",
    "* Using your results from `Problem 2-A`, write the `run_OnePhase(G,z0,c)` function below, which performs a single phase of the algorithm, starting at the input partition `z0`, and evaluates the algorithm's convergence criteria.\n",
    "  * It takes as input the graph `G`, the initial partition `z0`, and the number of groups `c`.\n",
    "  * It outputs 4 values: `zstar` and `Lstar`, the best partition of the phase and its LogL, a list `LL` of n+1 values LogL one for each partition in the phase (purely so that we can call `plotLL()` with it), and `halt` a binary flag that reports the convergence criteria, i.e., whether `zstar==z0` (or equivalently `tstar==0`, meaning, no better partition was found in this phase).\n",
    "  * Remember that when the phase begins, `f` is all zeros (all nodes un-frozen), and we 'freeze' whichever node we end up moving as a result of calling `makeAMove()`.\n",
    "* Then apply `run_OnePhase()` to the simple graph $G$ in `Problem 1-A`, with $c=3$, a partition from `random_z()`, by running the code in the second code box below.\n",
    "\n",
    "Hint: if you track the best partition `zstar` in the natural way, you will want to use the `copy.deepcopy()` function to 'save off' a copy of `zt`."
   ]
  },
  {
   "cell_type": "code",
   "execution_count": null,
   "metadata": {},
   "outputs": [],
   "source": [
    "def run_OnePhase(G,z0,c):\n",
    "    # Runs one phase, initialized from partition z0\n",
    "    # Returns the best partition found in the phase and the list of LogL values for all the phase's partitions\n",
    "    # input  : G, a graph\n",
    "    #        : z0, initial partition of G's nodes\n",
    "    #        : c, the number of groups\n",
    "    # output : zstar, the best partition of the phase\n",
    "    #        : Lstar, the LogL of zstar\n",
    "    #        : LL, the inorder list of LogL values for the n+1 partitions of this phase\n",
    "    #        : halt, 1 if zstar=z0 (no better partition found)\n",
    "\n",
    "    import copy      # for copy.deepcopy() function\n",
    "    n    = G.order() # n, number of nodes\n",
    "    LL   = []        # stores log-likelihoods over the entire algorithm (via .append)\n",
    "    halt = 0         # flag: =0 if Lstar > L0 at the end of the phase; =1 if Lstar <= L0\n",
    "\n",
    "    # initialize the phase\n",
    "    ers,kpr = tabulate_ek(G,z0,c)      # ers, kpr, initial DC-SBM parameters\n",
    "    L0      = dcsbm_LogL(ers,kpr)      # store initial DC-SBM log-likelihood\n",
    "    LL.append(L0)                      # track log-likelihood\n",
    "\n",
    "    f     = dict.fromkeys(range(n), 0) # initially, all nodes unfrozen (tricky python)\n",
    "    t     = 0                          # number of frozen nodes in this phase\n",
    "    Lstar = L0                         # initially, z0 has the best LogL\n",
    "    zstar = copy.deepcopy(z0)          # and z0 is the best partition\n",
    "    tstar = t                          # tstar = 0\n",
    "\n",
    "    # loop over all the nodes in G, making greedy move for each\n",
    "    zt = copy.deepcopy(z0)             # start the loop at z0\n",
    "    for j in range(n):\n",
    "        #print(f'step {j}') # for debugging\n",
    "\n",
    "        ##### do not modify above here #####\n",
    "\n",
    "        \n",
    "        ### YOUR CODE\n",
    "\n",
    "\n",
    "        ##### do not modify below here #####\n",
    "\n",
    "    return zstar,Lstar,LL,halt"
   ]
  },
  {
   "cell_type": "code",
   "execution_count": null,
   "metadata": {},
   "outputs": [],
   "source": [
    "##### do not modify below here #####\n",
    "##    run this code once you've written the run_OnePhase() function\n",
    "\n",
    "c  = 3                   # c, number of groups\n",
    "z0 = random_z(n,c)       # z0, initial partition\n",
    "ers,kpr = tabulate_ek(G,z0,c)      # ers, kpr, initial DC-SBM parameters\n",
    "L0      = dcsbm_LogL(ers,kpr)      # store initial DC-SBM log-likelihood\n",
    "\n",
    "print(f'phase[0] initial z, logL = {L0}')\n",
    "drawGz(G,z0)\n",
    "\n",
    "zstar,Lstar,LL,halt = run_OnePhase(G,z0,c)\n",
    "\n",
    "print(f'phase[0] best z, logL = {Lstar}')\n",
    "drawGz(G,zstar)\n",
    "plotLL(LL,0,G.order())\n",
    "\n",
    "##### do not modify above here #####"
   ]
  },
  {
   "cell_type": "markdown",
   "metadata": {},
   "source": [
    "### Problem 2-C (30 pts) : The full heuristic\n",
    "\n",
    "* Now, using your results from `Problem 2-B`, write the `fit_DCSBM(G,c,T)` function below, which runs the full locally gready heuristic.\n",
    "  * It takes as input a graph `G`, a number of groups `c`, and the maximum of phases allowed `T`.\n",
    "  * It outputs 4 values: `zstar` and `Lstar`, the best partition found across all phases and its LogL, a list `LL` of all LogL values across all phases (purely so that we can call `plotLL()` with it), and `pc` the number of phases it used.\n",
    "* Then apply `fit_DCSBM()` to the simple graph $G$ in `Problem 1-A`, with $c=3$ and $T=30$ phases at most, by running the code in the second code box below. This code will display the log-likelihood trajectory over the algorithm's run at the end, and apply your `tabulate_ek()` function to compute and display the mixing matrix.\n",
    "* Below the code box, discuss what you see about how the algorithm performs, and what stylized structure the algorithm finds for the mixing matrix (you may want to review Lecture 5 for this).\n",
    "\n",
    "Hint: How good a partition can you get? I got a log-likelihood of $-48.14$ or so."
   ]
  },
  {
   "cell_type": "code",
   "execution_count": null,
   "metadata": {},
   "outputs": [],
   "source": [
    "def fit_DCSBM(G,c,T):\n",
    "    # Runs the full locally greedy heuristic, with c groups\n",
    "    # Returns the best partition found, its LogL, and the list of LogL values for all partitions considered\n",
    "    # input  : G, a graph\n",
    "    #        : c, the number of groups\n",
    "    #        : T, the number maximum number of phases allowed\n",
    "    # output : zstar, the best partition of the phase\n",
    "    #        : Lstar, the LogL of zstar\n",
    "    #        : LL, the inorder list of all LogL values considered\n",
    "    #        : pc, the number of phases in LL\n",
    "\n",
    "    import copy # for copy.deepcopy()\n",
    "    \n",
    "    # 1.0 locally greedy heuristic setup\n",
    "    n  = G.order() # n, number of nodes\n",
    "    LL   = []      # log-likelihoods over the entire algorithm (concat via .extend)\n",
    "    halt = 0       # convergence flag\n",
    "\n",
    "    # 2.0 generate initial partition, calculate ers,kpr, and store the loglikelihood in Lt\n",
    "    zt      = random_z(n,c)       # z0, initial partition\n",
    "    ers,kpr = tabulate_ek(G,zt,c) # ers, kpr, initial DC-SBM parameters\n",
    "    Lt      = dcsbm_LogL(ers,kpr) # store initial DC-SBM log-likelihood\n",
    "\n",
    "    # 3.0 the main loop\n",
    "    pc = 0  # counter for number of phases completed\n",
    "    while not halt:\n",
    "        # 3.1 visualization of this phase's initial partition\n",
    "        print(f'phase[{pc}] z[0], logL = {Lt}')\n",
    "        drawGz(G,zt)\n",
    "\n",
    "        ##### do not modify above here #####\n",
    "\n",
    "        \n",
    "        ### YOUR CODE\n",
    "\n",
    "\n",
    "        ##### do not modify below here #####\n",
    "    \n",
    "    print(f' --> WE HAVE CONVERGENCE <-- ') # a friendly alert\n",
    "    return zstar,Lstar,LL,pc"
   ]
  },
  {
   "cell_type": "code",
   "execution_count": null,
   "metadata": {},
   "outputs": [],
   "source": [
    "##### do not modify below here #####\n",
    "##    run this code once you've written the fit_DCSBM() function\n",
    "\n",
    "c    = 3       # c, number of groups\n",
    "T    = 30      # maximum number of phases; HALT if pc >= T\n",
    "\n",
    "zstar,Lstar,LL,pc = fit_DCSBM(G,c,T)\n",
    "\n",
    "# visualize final partition, log-likelihood trajectory, and mixing matrix\n",
    "print(f'phase[{pc}] z0, logL = {Lstar}')\n",
    "drawGz(G,zstar)\n",
    "plotLL(LL,pc,G.order())\n",
    "\n",
    "ers,kpr = tabulate_ek(G,zstar,c)\n",
    "print(f'kappa_r = ')\n",
    "print(kpr)\n",
    "print(f'e_rs = ')\n",
    "print(ers)\n",
    "\n",
    "##### do not modify above here #####"
   ]
  },
  {
   "cell_type": "markdown",
   "metadata": {},
   "source": [
    "Your discussion here"
   ]
  },
  {
   "cell_type": "markdown",
   "metadata": {},
   "source": [
    "### Problem 2-D (10 pts) : coarse-graining some real data\n",
    "\n",
    "* Use the provided code below to load the `karate.gml` social network file that was bundled with `PS1`\n",
    "* Write a loop that will repeatedly apply your locally greedy heuristic from `Problem 2-C` to this network, keeping track of the _best_ output over repetitions. (Although the algorithm itself is deterministic, it begins at a random initial partition, and so re-running the algorithm many times allows us to sample different local optima, looking for a good one.)\n",
    "* Tinker with the number of repetitions needed to obtain the *optimal* $c=2$ group partition described in Lecture 6.\n",
    "* Comment briefly on how well your algorithm worked at this task, how many runs it took (a lot? a little? more than you expected? fewer?)\n",
    "* Bask in the glory of having implemented and applied this amazing algorithm to reproduce the results of Karrer and Newman (2011).\n",
    "\n",
    "Hint: because you'll apply this loop again in `Problem 2-E`, you might find it convenient to put the loop inside a function, e.g., `fit_DCSBM_reps(G,c,T,reps)`, where `reps` is the number of repetitions of applying `fig_DCSBM()`."
   ]
  },
  {
   "cell_type": "code",
   "execution_count": null,
   "metadata": {},
   "outputs": [],
   "source": [
    "# YOUR CODE HERE"
   ]
  },
  {
   "cell_type": "markdown",
   "metadata": {},
   "source": [
    "Your discussion here"
   ]
  },
  {
   "cell_type": "markdown",
   "metadata": {},
   "source": [
    "### Problem 2-E (10 pts extra credit) : coarse-graining some real biological data\n",
    "\n",
    "* Try out your DC-SBM algorithm on a few of the biological networks we've used in previous problem sets, to find the best $c=2$ group partition.\n",
    "* For each, once the algorithm has halted,\n",
    "  * make a visualization using `drawGz()`,\n",
    "  * tabulate and inspect $e_{rs}$ and $\\kappa_r$, and\n",
    "  * describe in the markdown box below what you see in terms of stylized community structure patterns (none, assortative, disassortative, or core-periphery; see Lecture 5).\n",
    "\n",
    "For reference, here are the best $c=2$ group log-likelihoods I found for some of the networks.\n",
    "* *5pts extra credit* if you can find (and document) any partitions that are better.\n",
    "\n",
    "network | log-likelihood\n",
    ":--- | ---:\n",
    "yeast_spliceosome | $-3488.78$\n",
    "HVR_5 | $-45925.77$\n",
    "HVR_1 | $-45204.71$\n",
    "p.pacificus_neural | $-1544.54$\n",
    "metabolism_afulgidus | $-66822.05$\n",
    "grass_web | $-1115.50$\n",
    "\n",
    "Warning: the algorithm does not scale very well, so be careful with networks $n>100$."
   ]
  },
  {
   "cell_type": "code",
   "execution_count": null,
   "metadata": {},
   "outputs": [],
   "source": [
    "# Your code here"
   ]
  },
  {
   "cell_type": "markdown",
   "metadata": {},
   "source": [
    "Your discussion here"
   ]
  },
  {
   "cell_type": "markdown",
   "metadata": {},
   "source": [
    "***\n",
    "***\n",
    "\n",
    "## Problem 3 : Reading the literature (*10 pts extra credit*)\n",
    "\n",
    "Choose a paper from the [Supplemental Reading list on the external course webpage](http://tuvalu.santafe.edu/~aaronc/courses/3352/). Read the paper (the whole paper, not just the abstract). Think about what it says. Then, write 1-3 sentences for each of the following questions in a way that clearly summarizes the work, and its context.\n",
    "* What paper did you choose?\n",
    "* What was the research question?\n",
    "* What was the approach the authors took to answer that question?\n",
    "* What did they do well?\n",
    "* What could they have done better?\n",
    "* What extensions can you envision?\n",
    "\n",
    "\n",
    "Do not copy any text from the paper itself; write your own summary, in your own words in Markdown in the corresponding box below. Be sure to answer each of the five questions. The amount of extra credit will depend on the accuracy and thoughtfulness of your answers.\n",
    "\n",
    "Hint: This is a good way to generate some ideas for your class project (your proposal for that is due on **February 27th**. Also, even if you don't understand everything in the paper, that's okay. Do your best to summarize what you did understand."
   ]
  },
  {
   "cell_type": "markdown",
   "metadata": {},
   "source": [
    "* *What paper did you choose?*<br/>\n",
    "Your answer here\n",
    "<br/>\n",
    "\n",
    "\n",
    "* *What was the research question?*<br/>\n",
    "Your answer here\n",
    "<br/>\n",
    "\n",
    "* *What was the approach the authors took to answer that question?*<br/>\n",
    "Your answer here\n",
    "<br/>\n",
    "\n",
    "* *What did they do well?*<br/>\n",
    "Your answer here\n",
    "<br/>\n",
    "\n",
    "* *What could they have done better?*<br/>\n",
    "Your answer here\n",
    "<br/>\n",
    "\n",
    "* *What extensions can you envision?*<br/>\n",
    "Your answer here"
   ]
  },
  {
   "cell_type": "markdown",
   "metadata": {},
   "source": [
    "***\n",
    "***\n",
    "\n",
    "## Problem 4 : Networkx tutorial (*10pts extra credit*)\n",
    "\n",
    "The learning curve for `networkx` can be non-trivial, even with the warm-up problems of `Problem Set 1` and `Problem Set 2`. Imagine if you had the *most useful* `networkx` tutorial to help you sift through the documentation and various built-in functions, when you were first learning, and then *write that tutorial*. This tutorial would need to not *give away* any of the answers on the problem sets. Instead, it would provide useful explanations and code examples for basic tasks and functions within `networkx`. I leave it up to you to decide exactly what that means, but list some suggestions below. Remember to imagine the *most useful* tutorial you could have had.\n",
    "\n",
    "For this question, write a small tutorial that could be made available as a _standalone Jupyter notebook_ to future students of `CSCI 3352 Biological Networks` that:\n",
    "* shows how to manually build and visualize graphs with different properties\n",
    "* explains and shows how to use many of the basic built-in functions\n",
    "* shows how to import a `GML` file\n",
    "* explains how to use markdown (with pointers to good external references)\n",
    "* explains how to typeset math using $\\LaTeX$ (with pointers to good external references)"
   ]
  },
  {
   "cell_type": "code",
   "execution_count": null,
   "metadata": {},
   "outputs": [],
   "source": []
  }
 ],
 "metadata": {
  "kernelspec": {
   "display_name": "Python 3",
   "language": "python",
   "name": "python3"
  },
  "language_info": {
   "codemirror_mode": {
    "name": "ipython",
    "version": 3
   },
   "file_extension": ".py",
   "mimetype": "text/x-python",
   "name": "python",
   "nbconvert_exporter": "python",
   "pygments_lexer": "ipython3",
   "version": "3.6.4"
  }
 },
 "nbformat": 4,
 "nbformat_minor": 2
}
